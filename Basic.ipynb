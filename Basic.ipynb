{
 "cells": [
  {
   "cell_type": "markdown",
   "metadata": {},
   "source": [
    "# Read in the data"
   ]
  },
  {
   "cell_type": "code",
   "execution_count": 1,
   "metadata": {},
   "outputs": [],
   "source": [
    "import pandas \n",
    "import numpy \n",
    "import re\n",
    "\n",
    "data_files = [\n",
    "    \"ap_2010.csv\",\n",
    "    \"class_size.csv\",\n",
    "    \"demographics.csv\",\n",
    "    \"graduation.csv\",\n",
    "    \"hs_directory.csv\",\n",
    "    \"sat_results.csv\"\n",
    "]\n",
    "\n",
    "data = {}\n",
    "\n",
    "for f in data_files:\n",
    "    d = pandas.read_csv(\"schools/{0}\".format(f))\n",
    "    data[f.replace(\".csv\", \"\")] = d"
   ]
  },
  {
   "cell_type": "markdown",
   "metadata": {},
   "source": [
    "# Read in the surveys"
   ]
  },
  {
   "cell_type": "code",
   "execution_count": 2,
   "metadata": {},
   "outputs": [],
   "source": [
    "all_survey = pandas.read_csv(\"schools/survey_all.txt\", delimiter=\"\\t\", encoding='windows-1252')\n",
    "d75_survey = pandas.read_csv(\"schools/survey_d75.txt\", delimiter=\"\\t\", encoding='windows-1252')\n",
    "survey = pandas.concat([all_survey, d75_survey], axis=0)\n",
    "\n",
    "survey[\"DBN\"] = survey[\"dbn\"]\n",
    "\n",
    "survey_fields = [\n",
    "    \"DBN\", \n",
    "    \"rr_s\", \n",
    "    \"rr_t\", \n",
    "    \"rr_p\", \n",
    "    \"N_s\", \n",
    "    \"N_t\", \n",
    "    \"N_p\", \n",
    "    \"saf_p_11\", \n",
    "    \"com_p_11\", \n",
    "    \"eng_p_11\", \n",
    "    \"aca_p_11\", \n",
    "    \"saf_t_11\", \n",
    "    \"com_t_11\", \n",
    "    \"eng_t_10\", \n",
    "    \"aca_t_11\", \n",
    "    \"saf_s_11\", \n",
    "    \"com_s_11\", \n",
    "    \"eng_s_11\", \n",
    "    \"aca_s_11\", \n",
    "    \"saf_tot_11\", \n",
    "    \"com_tot_11\", \n",
    "    \"eng_tot_11\", \n",
    "    \"aca_tot_11\",\n",
    "]\n",
    "survey = survey.loc[:,survey_fields]\n",
    "data[\"survey\"] = survey"
   ]
  },
  {
   "cell_type": "markdown",
   "metadata": {},
   "source": [
    "# Add DBN columns"
   ]
  },
  {
   "cell_type": "code",
   "execution_count": 3,
   "metadata": {},
   "outputs": [],
   "source": [
    "data[\"hs_directory\"][\"DBN\"] = data[\"hs_directory\"][\"dbn\"]\n",
    "\n",
    "def pad_csd(num):\n",
    "    string_representation = str(num)\n",
    "    if len(string_representation) > 1:\n",
    "        return string_representation\n",
    "    else:\n",
    "        return \"0\" + string_representation\n",
    "    \n",
    "data[\"class_size\"][\"padded_csd\"] = data[\"class_size\"][\"CSD\"].apply(pad_csd)\n",
    "data[\"class_size\"][\"DBN\"] = data[\"class_size\"][\"padded_csd\"] + data[\"class_size\"][\"SCHOOL CODE\"]"
   ]
  },
  {
   "cell_type": "markdown",
   "metadata": {},
   "source": [
    "# Convert columns to numeric"
   ]
  },
  {
   "cell_type": "code",
   "execution_count": 4,
   "metadata": {},
   "outputs": [],
   "source": [
    "cols = ['SAT Math Avg. Score', 'SAT Critical Reading Avg. Score', 'SAT Writing Avg. Score']\n",
    "for c in cols:\n",
    "    data[\"sat_results\"][c] = pandas.to_numeric(data[\"sat_results\"][c], errors=\"coerce\")\n",
    "\n",
    "data['sat_results']['sat_score'] = data['sat_results'][cols[0]] + data['sat_results'][cols[1]] + data['sat_results'][cols[2]]\n",
    "\n",
    "def find_lat(loc):\n",
    "    coords = re.findall(\"\\(.+, .+\\)\", loc)\n",
    "    lat = coords[0].split(\",\")[0].replace(\"(\", \"\")\n",
    "    return lat\n",
    "\n",
    "def find_lon(loc):\n",
    "    coords = re.findall(\"\\(.+, .+\\)\", loc)\n",
    "    lon = coords[0].split(\",\")[1].replace(\")\", \"\").strip()\n",
    "    return lon\n",
    "\n",
    "data[\"hs_directory\"][\"lat\"] = data[\"hs_directory\"][\"Location 1\"].apply(find_lat)\n",
    "data[\"hs_directory\"][\"lon\"] = data[\"hs_directory\"][\"Location 1\"].apply(find_lon)\n",
    "\n",
    "data[\"hs_directory\"][\"lat\"] = pandas.to_numeric(data[\"hs_directory\"][\"lat\"], errors=\"coerce\")\n",
    "data[\"hs_directory\"][\"lon\"] = pandas.to_numeric(data[\"hs_directory\"][\"lon\"], errors=\"coerce\")"
   ]
  },
  {
   "cell_type": "markdown",
   "metadata": {},
   "source": [
    "# Condense datasets"
   ]
  },
  {
   "cell_type": "code",
   "execution_count": 5,
   "metadata": {},
   "outputs": [],
   "source": [
    "class_size = data[\"class_size\"]\n",
    "class_size = class_size[class_size[\"GRADE \"] == \"09-12\"]\n",
    "class_size = class_size[class_size[\"PROGRAM TYPE\"] == \"GEN ED\"]\n",
    "\n",
    "class_size = class_size.groupby(\"DBN\").agg(numpy.mean)\n",
    "class_size.reset_index(inplace=True)\n",
    "data[\"class_size\"] = class_size\n",
    "\n",
    "data[\"demographics\"] = data[\"demographics\"][data[\"demographics\"][\"schoolyear\"] == 20112012]\n",
    "\n",
    "data[\"graduation\"] = data[\"graduation\"][data[\"graduation\"][\"Cohort\"] == \"2006\"]\n",
    "data[\"graduation\"] = data[\"graduation\"][data[\"graduation\"][\"Demographic\"] == \"Total Cohort\"]"
   ]
  },
  {
   "cell_type": "markdown",
   "metadata": {},
   "source": [
    "# Convert AP scores to numeric"
   ]
  },
  {
   "cell_type": "code",
   "execution_count": 6,
   "metadata": {},
   "outputs": [],
   "source": [
    "cols = ['AP Test Takers ', 'Total Exams Taken', 'Number of Exams with scores 3 4 or 5']\n",
    "\n",
    "for col in cols:\n",
    "    data[\"ap_2010\"][col] = pandas.to_numeric(data[\"ap_2010\"][col], errors=\"coerce\")"
   ]
  },
  {
   "cell_type": "markdown",
   "metadata": {},
   "source": [
    "# Combine the datasets"
   ]
  },
  {
   "cell_type": "code",
   "execution_count": 7,
   "metadata": {},
   "outputs": [],
   "source": [
    "combined = data[\"sat_results\"]\n",
    "\n",
    "combined = combined.merge(data[\"ap_2010\"], on=\"DBN\", how=\"left\")\n",
    "combined = combined.merge(data[\"graduation\"], on=\"DBN\", how=\"left\")\n",
    "\n",
    "to_merge = [\"class_size\", \"demographics\", \"survey\", \"hs_directory\"]\n",
    "\n",
    "for m in to_merge:\n",
    "    combined = combined.merge(data[m], on=\"DBN\", how=\"inner\")\n",
    "\n",
    "combined = combined.fillna(combined.mean())\n",
    "combined = combined.fillna(0)"
   ]
  },
  {
   "cell_type": "markdown",
   "metadata": {},
   "source": [
    "# Add a school district column for mapping"
   ]
  },
  {
   "cell_type": "code",
   "execution_count": 8,
   "metadata": {},
   "outputs": [],
   "source": [
    "def get_first_two_chars(dbn):\n",
    "    return dbn[0:2]\n",
    "\n",
    "combined[\"school_dist\"] = combined[\"DBN\"].apply(get_first_two_chars)"
   ]
  },
  {
   "cell_type": "markdown",
   "metadata": {},
   "source": [
    "# Find correlations"
   ]
  },
  {
   "cell_type": "code",
   "execution_count": 9,
   "metadata": {},
   "outputs": [
    {
     "name": "stdout",
     "output_type": "stream",
     "text": [
      "SAT Critical Reading Avg. Score         0.986820\n",
      "SAT Math Avg. Score                     0.972643\n",
      "SAT Writing Avg. Score                  0.987771\n",
      "sat_score                               1.000000\n",
      "AP Test Takers                          0.523140\n",
      "Total Exams Taken                       0.514333\n",
      "Number of Exams with scores 3 4 or 5    0.463245\n",
      "Total Cohort                            0.325144\n",
      "CSD                                     0.042948\n",
      "NUMBER OF STUDENTS / SEATS FILLED       0.394626\n",
      "NUMBER OF SECTIONS                      0.362673\n",
      "AVERAGE CLASS SIZE                      0.381014\n",
      "SIZE OF SMALLEST CLASS                  0.249949\n",
      "SIZE OF LARGEST CLASS                   0.314434\n",
      "SCHOOLWIDE PUPIL-TEACHER RATIO               NaN\n",
      "schoolyear                                   NaN\n",
      "fl_percent                                   NaN\n",
      "frl_percent                            -0.722225\n",
      "total_enrollment                        0.367857\n",
      "ell_num                                -0.153778\n",
      "ell_percent                            -0.398750\n",
      "sped_num                                0.034933\n",
      "sped_percent                           -0.448170\n",
      "asian_num                               0.475445\n",
      "asian_per                               0.570730\n",
      "black_num                               0.027979\n",
      "black_per                              -0.284139\n",
      "hispanic_num                            0.025744\n",
      "hispanic_per                           -0.396985\n",
      "white_num                               0.449559\n",
      "                                          ...   \n",
      "rr_p                                    0.047925\n",
      "N_s                                     0.423463\n",
      "N_t                                     0.291463\n",
      "N_p                                     0.421530\n",
      "saf_p_11                                0.122913\n",
      "com_p_11                               -0.115073\n",
      "eng_p_11                                0.020254\n",
      "aca_p_11                                0.035155\n",
      "saf_t_11                                0.313810\n",
      "com_t_11                                0.082419\n",
      "eng_t_10                                     NaN\n",
      "aca_t_11                                0.132348\n",
      "saf_s_11                                0.337639\n",
      "com_s_11                                0.187370\n",
      "eng_s_11                                0.213822\n",
      "aca_s_11                                0.339435\n",
      "saf_tot_11                              0.318753\n",
      "com_tot_11                              0.077310\n",
      "eng_tot_11                              0.100102\n",
      "aca_tot_11                              0.190966\n",
      "grade_span_max                               NaN\n",
      "expgrade_span_max                            NaN\n",
      "zip                                    -0.063977\n",
      "total_students                          0.407827\n",
      "number_programs                         0.117012\n",
      "priority08                                   NaN\n",
      "priority09                                   NaN\n",
      "priority10                                   NaN\n",
      "lat                                    -0.121029\n",
      "lon                                    -0.132222\n",
      "Name: sat_score, Length: 67, dtype: float64\n"
     ]
    }
   ],
   "source": [
    "correlations = combined.corr()\n",
    "correlations = correlations[\"sat_score\"]\n",
    "print(correlations)"
   ]
  },
  {
   "cell_type": "code",
   "execution_count": 10,
   "metadata": {},
   "outputs": [],
   "source": [
    "%matplotlib inline\n",
    "import matplotlib.pyplot as plt\n",
    "from mpl_toolkits.basemap import Basemap"
   ]
  },
  {
   "cell_type": "code",
   "execution_count": 11,
   "metadata": {},
   "outputs": [
    {
     "data": {
      "text/plain": [
       "['DBN',\n",
       " 'rr_s',\n",
       " 'rr_t',\n",
       " 'rr_p',\n",
       " 'N_s',\n",
       " 'N_t',\n",
       " 'N_p',\n",
       " 'saf_p_11',\n",
       " 'com_p_11',\n",
       " 'eng_p_11',\n",
       " 'aca_p_11',\n",
       " 'saf_t_11',\n",
       " 'com_t_11',\n",
       " 'eng_t_10',\n",
       " 'aca_t_11',\n",
       " 'saf_s_11',\n",
       " 'com_s_11',\n",
       " 'eng_s_11',\n",
       " 'aca_s_11',\n",
       " 'saf_tot_11',\n",
       " 'com_tot_11',\n",
       " 'eng_tot_11',\n",
       " 'aca_tot_11']"
      ]
     },
     "execution_count": 11,
     "metadata": {},
     "output_type": "execute_result"
    }
   ],
   "source": [
    "survey_fields"
   ]
  },
  {
   "cell_type": "code",
   "execution_count": 12,
   "metadata": {
    "scrolled": true
   },
   "outputs": [
    {
     "data": {
      "text/plain": [
       "Text(0,0.5,'Correlation with sat_score')"
      ]
     },
     "execution_count": 12,
     "metadata": {},
     "output_type": "execute_result"
    },
    {
     "data": {
      "image/png": "[encoded data removed]",
      "text/plain": [
       "<matplotlib.figure.Figure at 0x116771320>"
      ]
     },
     "metadata": {},
     "output_type": "display_data"
    }
   ],
   "source": [
    "fig, ax = plt.subplots()\n",
    "ax = combined.corr()[\"sat_score\"][survey_fields].plot.bar()\n",
    "ax.set_ylabel(\"Correlation with sat_score\")"
   ]
  },
  {
   "cell_type": "markdown",
   "metadata": {},
   "source": [
    "# Consult the data dictionary that's part of the zip file you can download from the City of New York's website.\n",
    "Did you find any surprising correlations?"
   ]
  },
  {
   "cell_type": "markdown",
   "metadata": {},
   "source": [
    "N_s, N_p have high correlations with sat_score, which are strongly related to the former discovery of the correlation between total_enrollment and sat_score. we just confirm it again with a different angle of view to show that the larger the number of students, the better the sat_score achieved.\n",
    "\n",
    "saf_s_11, saf_t_11, and saf_tot_11 all appear high correlations with sat_score, which make sense that people no matter students or teachers, learning or teaching are all performed well when they are in an environment they feel safe.\n",
    "\n",
    "The most interesting correlation between aca_s_11 and sat_score tells us that how students feel about that quality of academy also plays an important role of how real sat_score performed, which indicates that we should take students' reponse more seriously since it reflects to the real situation closely.   "
   ]
  },
  {
   "cell_type": "code",
   "execution_count": 13,
   "metadata": {},
   "outputs": [
    {
     "data": {
      "text/plain": [
       "<matplotlib.axes._subplots.AxesSubplot at 0x117a031d0>"
      ]
     },
     "execution_count": 13,
     "metadata": {},
     "output_type": "execute_result"
    },
    {
     "data": {
      "image/png": "[encoded data removed]",
      "text/plain": [
       "<matplotlib.figure.Figure at 0x1179c8128>"
      ]
     },
     "metadata": {},
     "output_type": "display_data"
    }
   ],
   "source": [
    "combined.plot(x=\"saf_s_11\", y=\"sat_score\", kind=\"scatter\")"
   ]
  },
  {
   "cell_type": "markdown",
   "metadata": {},
   "source": [
    "There is a correlation between saf_s_11 and sat_score even though it's not very strong. "
   ]
  },
  {
   "cell_type": "code",
   "execution_count": 14,
   "metadata": {},
   "outputs": [],
   "source": [
    "dist = combined.groupby(\"CSD\")[[\"saf_s_11\", \"saf_t_11\", \"lon\", \"lat\"]].mean()\n",
    "dist.reset_index(inplace=True)"
   ]
  },
  {
   "cell_type": "code",
   "execution_count": null,
   "metadata": {},
   "outputs": [
    {
     "data": {
      "text/html": [
       "<div>\n",
       "<style>\n",
       "    .dataframe thead tr:only-child th {\n",
       "        text-align: right;\n",
       "    }\n",
       "\n",
       "    .dataframe thead th {\n",
       "        text-align: left;\n",
       "    }\n",
       "\n",
       "    .dataframe tbody tr th {\n",
       "        vertical-align: top;\n",
       "    }\n",
       "</style>\n",
       "<table border=\"1\" class=\"dataframe\">\n",
       "  <thead>\n",
       "    <tr style=\"text-align: right;\">\n",
       "      <th></th>\n",
       "      <th>CSD</th>\n",
       "      <th>saf_s_11</th>\n",
       "      <th>saf_t_11</th>\n",
       "      <th>lon</th>\n",
       "      <th>lat</th>\n",
       "      <th>avg_safety</th>\n",
       "      <th>nor_avg_safety</th>\n",
       "    </tr>\n",
       "  </thead>\n",
       "  <tbody>\n",
       "    <tr>\n",
       "      <th>0</th>\n",
       "      <td>1</td>\n",
       "      <td>6.768611</td>\n",
       "      <td>7.066667</td>\n",
       "      <td>-73.982377</td>\n",
       "      <td>40.719022</td>\n",
       "      <td>6.917639</td>\n",
       "      <td>0.910216</td>\n",
       "    </tr>\n",
       "    <tr>\n",
       "      <th>1</th>\n",
       "      <td>2</td>\n",
       "      <td>6.910660</td>\n",
       "      <td>7.404167</td>\n",
       "      <td>-73.991386</td>\n",
       "      <td>40.739699</td>\n",
       "      <td>7.157413</td>\n",
       "      <td>0.941765</td>\n",
       "    </tr>\n",
       "    <tr>\n",
       "      <th>2</th>\n",
       "      <td>3</td>\n",
       "      <td>6.716667</td>\n",
       "      <td>6.675000</td>\n",
       "      <td>-73.977370</td>\n",
       "      <td>40.781574</td>\n",
       "      <td>6.695833</td>\n",
       "      <td>0.881031</td>\n",
       "    </tr>\n",
       "    <tr>\n",
       "      <th>3</th>\n",
       "      <td>4</td>\n",
       "      <td>6.885714</td>\n",
       "      <td>7.871429</td>\n",
       "      <td>-73.943215</td>\n",
       "      <td>40.793449</td>\n",
       "      <td>7.378571</td>\n",
       "      <td>0.970865</td>\n",
       "    </tr>\n",
       "    <tr>\n",
       "      <th>4</th>\n",
       "      <td>5</td>\n",
       "      <td>6.314286</td>\n",
       "      <td>6.857143</td>\n",
       "      <td>-73.949251</td>\n",
       "      <td>40.817077</td>\n",
       "      <td>6.585714</td>\n",
       "      <td>0.866541</td>\n",
       "    </tr>\n",
       "    <tr>\n",
       "      <th>5</th>\n",
       "      <td>6</td>\n",
       "      <td>6.950000</td>\n",
       "      <td>7.490000</td>\n",
       "      <td>-73.932502</td>\n",
       "      <td>40.848970</td>\n",
       "      <td>7.220000</td>\n",
       "      <td>0.950000</td>\n",
       "    </tr>\n",
       "    <tr>\n",
       "      <th>6</th>\n",
       "      <td>7</td>\n",
       "      <td>6.800000</td>\n",
       "      <td>6.969231</td>\n",
       "      <td>-73.919971</td>\n",
       "      <td>40.816815</td>\n",
       "      <td>6.884615</td>\n",
       "      <td>0.905870</td>\n",
       "    </tr>\n",
       "    <tr>\n",
       "      <th>7</th>\n",
       "      <td>8</td>\n",
       "      <td>6.364697</td>\n",
       "      <td>7.109091</td>\n",
       "      <td>-73.866087</td>\n",
       "      <td>40.823803</td>\n",
       "      <td>6.736894</td>\n",
       "      <td>0.886433</td>\n",
       "    </tr>\n",
       "    <tr>\n",
       "      <th>8</th>\n",
       "      <td>9</td>\n",
       "      <td>6.655000</td>\n",
       "      <td>6.935000</td>\n",
       "      <td>-73.906240</td>\n",
       "      <td>40.836349</td>\n",
       "      <td>6.795000</td>\n",
       "      <td>0.894079</td>\n",
       "    </tr>\n",
       "    <tr>\n",
       "      <th>9</th>\n",
       "      <td>10</td>\n",
       "      <td>6.577273</td>\n",
       "      <td>6.972727</td>\n",
       "      <td>-73.898360</td>\n",
       "      <td>40.870345</td>\n",
       "      <td>6.775000</td>\n",
       "      <td>0.891447</td>\n",
       "    </tr>\n",
       "    <tr>\n",
       "      <th>10</th>\n",
       "      <td>11</td>\n",
       "      <td>6.186667</td>\n",
       "      <td>7.026667</td>\n",
       "      <td>-73.856120</td>\n",
       "      <td>40.873138</td>\n",
       "      <td>6.606667</td>\n",
       "      <td>0.869298</td>\n",
       "    </tr>\n",
       "    <tr>\n",
       "      <th>11</th>\n",
       "      <td>12</td>\n",
       "      <td>7.116667</td>\n",
       "      <td>7.266667</td>\n",
       "      <td>-73.886946</td>\n",
       "      <td>40.831412</td>\n",
       "      <td>7.191667</td>\n",
       "      <td>0.946272</td>\n",
       "    </tr>\n",
       "    <tr>\n",
       "      <th>12</th>\n",
       "      <td>13</td>\n",
       "      <td>6.407692</td>\n",
       "      <td>7.092308</td>\n",
       "      <td>-73.977016</td>\n",
       "      <td>40.692865</td>\n",
       "      <td>6.750000</td>\n",
       "      <td>0.888158</td>\n",
       "    </tr>\n",
       "    <tr>\n",
       "      <th>13</th>\n",
       "      <td>14</td>\n",
       "      <td>6.685714</td>\n",
       "      <td>7.271429</td>\n",
       "      <td>-73.948360</td>\n",
       "      <td>40.711599</td>\n",
       "      <td>6.978571</td>\n",
       "      <td>0.918233</td>\n",
       "    </tr>\n",
       "    <tr>\n",
       "      <th>14</th>\n",
       "      <td>15</td>\n",
       "      <td>6.177778</td>\n",
       "      <td>6.566667</td>\n",
       "      <td>-73.989255</td>\n",
       "      <td>40.675972</td>\n",
       "      <td>6.372222</td>\n",
       "      <td>0.838450</td>\n",
       "    </tr>\n",
       "    <tr>\n",
       "      <th>15</th>\n",
       "      <td>16</td>\n",
       "      <td>5.875000</td>\n",
       "      <td>5.750000</td>\n",
       "      <td>-73.929686</td>\n",
       "      <td>40.688008</td>\n",
       "      <td>5.812500</td>\n",
       "      <td>0.764803</td>\n",
       "    </tr>\n",
       "    <tr>\n",
       "      <th>16</th>\n",
       "      <td>17</td>\n",
       "      <td>6.007143</td>\n",
       "      <td>6.957143</td>\n",
       "      <td>-73.955636</td>\n",
       "      <td>40.660313</td>\n",
       "      <td>6.482143</td>\n",
       "      <td>0.852914</td>\n",
       "    </tr>\n",
       "    <tr>\n",
       "      <th>17</th>\n",
       "      <td>18</td>\n",
       "      <td>6.190909</td>\n",
       "      <td>6.890909</td>\n",
       "      <td>-73.914726</td>\n",
       "      <td>40.641863</td>\n",
       "      <td>6.540909</td>\n",
       "      <td>0.860646</td>\n",
       "    </tr>\n",
       "    <tr>\n",
       "      <th>18</th>\n",
       "      <td>19</td>\n",
       "      <td>6.150000</td>\n",
       "      <td>6.516667</td>\n",
       "      <td>-73.882158</td>\n",
       "      <td>40.676547</td>\n",
       "      <td>6.333333</td>\n",
       "      <td>0.833333</td>\n",
       "    </tr>\n",
       "    <tr>\n",
       "      <th>19</th>\n",
       "      <td>20</td>\n",
       "      <td>7.120000</td>\n",
       "      <td>7.820000</td>\n",
       "      <td>-74.006191</td>\n",
       "      <td>40.626751</td>\n",
       "      <td>7.470000</td>\n",
       "      <td>0.982895</td>\n",
       "    </tr>\n",
       "    <tr>\n",
       "      <th>20</th>\n",
       "      <td>21</td>\n",
       "      <td>6.390909</td>\n",
       "      <td>7.072727</td>\n",
       "      <td>-73.978465</td>\n",
       "      <td>40.593596</td>\n",
       "      <td>6.731818</td>\n",
       "      <td>0.885766</td>\n",
       "    </tr>\n",
       "    <tr>\n",
       "      <th>21</th>\n",
       "      <td>22</td>\n",
       "      <td>7.025000</td>\n",
       "      <td>8.175000</td>\n",
       "      <td>-73.952288</td>\n",
       "      <td>40.618285</td>\n",
       "      <td>7.600000</td>\n",
       "      <td>1.000000</td>\n",
       "    </tr>\n",
       "    <tr>\n",
       "      <th>22</th>\n",
       "      <td>23</td>\n",
       "      <td>6.233333</td>\n",
       "      <td>7.033333</td>\n",
       "      <td>-73.912298</td>\n",
       "      <td>40.668586</td>\n",
       "      <td>6.633333</td>\n",
       "      <td>0.872807</td>\n",
       "    </tr>\n",
       "    <tr>\n",
       "      <th>23</th>\n",
       "      <td>24</td>\n",
       "      <td>7.107692</td>\n",
       "      <td>7.669231</td>\n",
       "      <td>-73.911518</td>\n",
       "      <td>40.740621</td>\n",
       "      <td>7.388462</td>\n",
       "      <td>0.972166</td>\n",
       "    </tr>\n",
       "    <tr>\n",
       "      <th>24</th>\n",
       "      <td>25</td>\n",
       "      <td>6.912500</td>\n",
       "      <td>7.487500</td>\n",
       "      <td>-73.815558</td>\n",
       "      <td>40.745414</td>\n",
       "      <td>7.200000</td>\n",
       "      <td>0.947368</td>\n",
       "    </tr>\n",
       "    <tr>\n",
       "      <th>25</th>\n",
       "      <td>26</td>\n",
       "      <td>6.760000</td>\n",
       "      <td>7.000000</td>\n",
       "      <td>-73.759176</td>\n",
       "      <td>40.748507</td>\n",
       "      <td>6.880000</td>\n",
       "      <td>0.905263</td>\n",
       "    </tr>\n",
       "    <tr>\n",
       "      <th>26</th>\n",
       "      <td>27</td>\n",
       "      <td>6.390000</td>\n",
       "      <td>6.930000</td>\n",
       "      <td>-73.807823</td>\n",
       "      <td>40.638828</td>\n",
       "      <td>6.660000</td>\n",
       "      <td>0.876316</td>\n",
       "    </tr>\n",
       "    <tr>\n",
       "      <th>27</th>\n",
       "      <td>28</td>\n",
       "      <td>6.627273</td>\n",
       "      <td>7.600000</td>\n",
       "      <td>-73.806367</td>\n",
       "      <td>40.709344</td>\n",
       "      <td>7.113636</td>\n",
       "      <td>0.936005</td>\n",
       "    </tr>\n",
       "    <tr>\n",
       "      <th>28</th>\n",
       "      <td>29</td>\n",
       "      <td>6.075000</td>\n",
       "      <td>7.050000</td>\n",
       "      <td>-73.752740</td>\n",
       "      <td>40.685276</td>\n",
       "      <td>6.562500</td>\n",
       "      <td>0.863487</td>\n",
       "    </tr>\n",
       "    <tr>\n",
       "      <th>29</th>\n",
       "      <td>30</td>\n",
       "      <td>7.033333</td>\n",
       "      <td>7.500000</td>\n",
       "      <td>-73.932306</td>\n",
       "      <td>40.755398</td>\n",
       "      <td>7.266667</td>\n",
       "      <td>0.956140</td>\n",
       "    </tr>\n",
       "    <tr>\n",
       "      <th>30</th>\n",
       "      <td>31</td>\n",
       "      <td>6.530000</td>\n",
       "      <td>7.210000</td>\n",
       "      <td>-74.125726</td>\n",
       "      <td>40.595680</td>\n",
       "      <td>6.870000</td>\n",
       "      <td>0.903947</td>\n",
       "    </tr>\n",
       "    <tr>\n",
       "      <th>31</th>\n",
       "      <td>32</td>\n",
       "      <td>6.766667</td>\n",
       "      <td>7.050000</td>\n",
       "      <td>-73.917124</td>\n",
       "      <td>40.696295</td>\n",
       "      <td>6.908333</td>\n",
       "      <td>0.908991</td>\n",
       "    </tr>\n",
       "  </tbody>\n",
       "</table>\n",
       "</div>"
      ],
      "text/plain": [
       "    CSD  saf_s_11  saf_t_11        lon        lat  avg_safety  nor_avg_safety\n",
       "0     1  6.768611  7.066667 -73.982377  40.719022    6.917639        0.910216\n",
       "1     2  6.910660  7.404167 -73.991386  40.739699    7.157413        0.941765\n",
       "2     3  6.716667  6.675000 -73.977370  40.781574    6.695833        0.881031\n",
       "3     4  6.885714  7.871429 -73.943215  40.793449    7.378571        0.970865\n",
       "4     5  6.314286  6.857143 -73.949251  40.817077    6.585714        0.866541\n",
       "5     6  6.950000  7.490000 -73.932502  40.848970    7.220000        0.950000\n",
       "6     7  6.800000  6.969231 -73.919971  40.816815    6.884615        0.905870\n",
       "7     8  6.364697  7.109091 -73.866087  40.823803    6.736894        0.886433\n",
       "8     9  6.655000  6.935000 -73.906240  40.836349    6.795000        0.894079\n",
       "9    10  6.577273  6.972727 -73.898360  40.870345    6.775000        0.891447\n",
       "10   11  6.186667  7.026667 -73.856120  40.873138    6.606667        0.869298\n",
       "11   12  7.116667  7.266667 -73.886946  40.831412    7.191667        0.946272\n",
       "12   13  6.407692  7.092308 -73.977016  40.692865    6.750000        0.888158\n",
       "13   14  6.685714  7.271429 -73.948360  40.711599    6.978571        0.918233\n",
       "14   15  6.177778  6.566667 -73.989255  40.675972    6.372222        0.838450\n",
       "15   16  5.875000  5.750000 -73.929686  40.688008    5.812500        0.764803\n",
       "16   17  6.007143  6.957143 -73.955636  40.660313    6.482143        0.852914\n",
       "17   18  6.190909  6.890909 -73.914726  40.641863    6.540909        0.860646\n",
       "18   19  6.150000  6.516667 -73.882158  40.676547    6.333333        0.833333\n",
       "19   20  7.120000  7.820000 -74.006191  40.626751    7.470000        0.982895\n",
       "20   21  6.390909  7.072727 -73.978465  40.593596    6.731818        0.885766\n",
       "21   22  7.025000  8.175000 -73.952288  40.618285    7.600000        1.000000\n",
       "22   23  6.233333  7.033333 -73.912298  40.668586    6.633333        0.872807\n",
       "23   24  7.107692  7.669231 -73.911518  40.740621    7.388462        0.972166\n",
       "24   25  6.912500  7.487500 -73.815558  40.745414    7.200000        0.947368\n",
       "25   26  6.760000  7.000000 -73.759176  40.748507    6.880000        0.905263\n",
       "26   27  6.390000  6.930000 -73.807823  40.638828    6.660000        0.876316\n",
       "27   28  6.627273  7.600000 -73.806367  40.709344    7.113636        0.936005\n",
       "28   29  6.075000  7.050000 -73.752740  40.685276    6.562500        0.863487\n",
       "29   30  7.033333  7.500000 -73.932306  40.755398    7.266667        0.956140\n",
       "30   31  6.530000  7.210000 -74.125726  40.595680    6.870000        0.903947\n",
       "31   32  6.766667  7.050000 -73.917124  40.696295    6.908333        0.908991"
      ]
     },
     "execution_count": 15,
     "metadata": {},
     "output_type": "execute_result"
    }
   ],
   "source": [
    "dist[\"avg_safety\"]= dist[[\"saf_s_11\", \"saf_t_11\"]].apply(numpy.mean, axis=1)\n",
    "dist[\"nor_avg_safety\"] = dist[\"avg_safety\"]/dist[\"avg_safety\"].max()\n",
    "dist"
   ]
  },
  {
   "cell_type": "code",
   "execution_count": null,
   "metadata": {},
   "outputs": [],
   "source": [
    "fig, ax = plt.subplots()\n",
    "m = Basemap(projection=\"merc\", llcrnrlat=40.496044, urcrnrlat=40.915256, llcrnrlon=-74.255735 , urcrnrlon=-73.700272, resolution=\"f\")\n",
    "\n",
    "cst = (127/255, 127/255, 127/255)\n",
    "m.drawcoastlines(color=cst, linewidth=.4)\n",
    "m.drawmapboundary(fill_color=\"#85A6D9\")\n",
    "m.fillcontinents(color=\"white\")\n",
    "\n",
    "lon = dist[\"lon\"].tolist()\n",
    "lat = dist[\"lat\"].tolist()\n",
    "\n",
    "m.scatter(lon, lat, latlon=True, s=50, zorder=2, c=dist[\"nor_avg_safety\"], cmap=\"summer\")\n",
    "\n",
    "plt.show()"
   ]
  },
  {
   "cell_type": "markdown",
   "metadata": {
    "collapsed": true
   },
   "source": [
    "It shows lower Brooklyn, parts of Queens, and upper side of Manhattan have higher safety scores than other places."
   ]
  },
  {
   "cell_type": "code",
   "execution_count": null,
   "metadata": {},
   "outputs": [],
   "source": [
    "races= [\"white_per\", \"asian_per\", \"black_per\", \"hispanic_per\"]\n",
    "\n",
    "races_corr = combined.corr()[\"sat_score\"][races].plot.bar()"
   ]
  },
  {
   "cell_type": "markdown",
   "metadata": {},
   "source": [
    "We can see that white_per and asian_per both have strong positive correlations with sat_score, which may the be result of those races have more traditonal values for family and society, which means they take care of their children more and give them more resources to support their growth. As a result, their children may be healthier both physically and mentally and also being encouranged to study more without worrying finacil conditions, which makes these group of people to perform well on an academy field.\n",
    "\n",
    "black_per and hispanic_per have strong negtive correaltions with sat_score, whcih may due to the reason of their culture emphasizes more on developments of individual interests rather than just focusing on academic study. "
   ]
  },
  {
   "cell_type": "code",
   "execution_count": null,
   "metadata": {},
   "outputs": [],
   "source": [
    "combined.plot.scatter(x=\"sat_score\", y=\"hispanic_per\")"
   ]
  },
  {
   "cell_type": "code",
   "execution_count": null,
   "metadata": {},
   "outputs": [],
   "source": [
    "combined.loc[(combined.sat_score < 1000) & (combined.hispanic_per > 60), [\"SCHOOL NAME\", \"sat_score\", \"hispanic_per\"]]"
   ]
  },
  {
   "cell_type": "markdown",
   "metadata": {},
   "source": [
    "Schools for sat_score under 1000 and hispanic_per greater than 60 are almost related to international schools. Using English which is not first language for them to learn academic subjects may be the main reason for resulting low sat_score performance."
   ]
  },
  {
   "cell_type": "code",
   "execution_count": null,
   "metadata": {},
   "outputs": [],
   "source": [
    "combined.loc[combined.hispanic_per > 95, [\"SCHOOL NAME\", \"sat_score\", \"hispanic_per\"]]"
   ]
  },
  {
   "cell_type": "markdown",
   "metadata": {},
   "source": [
    "All of these schools with hispanic_per greater than 95 tends to have majority of international students who are learning English, which is the reason to have poor SAT perfromance. "
   ]
  },
  {
   "cell_type": "code",
   "execution_count": null,
   "metadata": {},
   "outputs": [],
   "source": [
    "combined.loc[(combined.sat_score > 1800) & (combined.hispanic_per < 10), [\"SCHOOL NAME\", \"sat_score\", \"hispanic_per\"]]"
   ]
  },
  {
   "cell_type": "markdown",
   "metadata": {},
   "source": [
    "Schools for sat_score higher than 1800 and hispanic_per lower than 10 are almost specilized in science and technoledge. However, the low hispanic_per doesn't explain the outcome above, but we know all students are all over New York City where has higher academic standard since before."
   ]
  },
  {
   "cell_type": "code",
   "execution_count": null,
   "metadata": {},
   "outputs": [],
   "source": [
    "gender_corr = combined.corr()[\"sat_score\"][[\"male_per\", \"female_per\"]]\n",
    "gender_corr.plot.bar()"
   ]
  },
  {
   "cell_type": "markdown",
   "metadata": {},
   "source": [
    "Accroding to the plot above, it tells that females have a positive correlation with sat_score, and males have a negative one.\n",
    "We may infer that females may be more mature and more responsible for their studies during high school age. "
   ]
  },
  {
   "cell_type": "code",
   "execution_count": null,
   "metadata": {},
   "outputs": [],
   "source": [
    "combined.plot.scatter(x=\"female_per\", y=\"sat_score\")"
   ]
  },
  {
   "cell_type": "markdown",
   "metadata": {},
   "source": [
    "No correlation appeares in the plot above; however, there is a cluster of schools with 40 t0 60 percentages of females and lower sat scores."
   ]
  },
  {
   "cell_type": "code",
   "execution_count": null,
   "metadata": {},
   "outputs": [],
   "source": [
    "combined.loc[(combined.female_per > 60) & (combined.sat_score > 1700), [\"SCHOOL NAME\", \"female_per\", \"sat_score\"]]"
   ]
  },
  {
   "cell_type": "markdown",
   "metadata": {},
   "source": [
    "All these schools with high values in both female_per and sat_score usually have liberal arts subjects within them, which can be related to the preference of subjects women choose to study and to the intrinsic ability women have in general, and it might also be the little confirmation of the correlation between female_per and sat_score we did before. "
   ]
  },
  {
   "cell_type": "code",
   "execution_count": null,
   "metadata": {},
   "outputs": [],
   "source": [
    "combined[\"ap_per\"] = combined[\"AP Test Takers \"]/ combined[\"total_enrollment\"]\n",
    "combined[\"ap_per\"]"
   ]
  },
  {
   "cell_type": "code",
   "execution_count": null,
   "metadata": {},
   "outputs": [],
   "source": [
    "combined.plot.scatter(x=\"ap_per\", y=\"sat_score\")"
   ]
  },
  {
   "cell_type": "markdown",
   "metadata": {},
   "source": [
    "A part of those schools whose ap_per under around 0.5 shows a very weak correlation between the rate of AP test takers and the SAT scores.\n",
    "As the increament of the percentage of AP test takers takes, the value of SAT scores reaches to its peak as well. "
   ]
  },
  {
   "cell_type": "code",
   "execution_count": null,
   "metadata": {
    "scrolled": true
   },
   "outputs": [],
   "source": [
    "combined.plot.scatter(x = \"AVERAGE CLASS SIZE\", y=\"sat_score\")"
   ]
  },
  {
   "cell_type": "code",
   "execution_count": null,
   "metadata": {},
   "outputs": [],
   "source": [
    "combined.corr()[\"sat_score\"][\"AVERAGE CLASS SIZE\"]"
   ]
  },
  {
   "cell_type": "markdown",
   "metadata": {},
   "source": [
    "The correaltion between class size and SAT score is not very weak, but the correlation value is up to 0.38, which may be the result of a cluster of aggregated schools in the lower part of the plot."
   ]
  },
  {
   "cell_type": "code",
   "execution_count": null,
   "metadata": {},
   "outputs": [],
   "source": []
  }
 ],
 "metadata": {
  "kernelspec": {
   "display_name": "Python 3",
   "language": "python",
   "name": "python3"
  },
  "language_info": {
   "codemirror_mode": {
    "name": "ipython",
    "version": 3
   },
   "file_extension": ".py",
   "mimetype": "text/x-python",
   "name": "python",
   "nbconvert_exporter": "python",
   "pygments_lexer": "ipython3",
   "version": "3.6.3"
  }
 },
 "nbformat": 4,
 "nbformat_minor": 1
}
